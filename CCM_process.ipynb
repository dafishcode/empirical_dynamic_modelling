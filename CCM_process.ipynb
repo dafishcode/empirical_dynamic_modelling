{
 "cells": [
  {
   "cell_type": "code",
   "execution_count": 1,
   "metadata": {},
   "outputs": [
    {
     "data": {
      "text/plain": [
       "'3.7.6 (default, Jan  8 2020, 13:42:34) \\n[Clang 4.0.1 (tags/RELEASE_401/final)]'"
      ]
     },
     "execution_count": 1,
     "metadata": {},
     "output_type": "execute_result"
    }
   ],
   "source": [
    "#Import packages\n",
    "#---------------------------------------\n",
    "import sys\n",
    "import os\n",
    "import pandas as pd\n",
    "from matplotlib import pyplot as plt\n",
    "import numpy as np\n",
    "import matplotlib\n",
    "import warnings\n",
    "warnings.filterwarnings(\"ignore\", category=RuntimeWarning) \n",
    "\n",
    "#Import your modules\n",
    "#---------------------------------------\n",
    "import admin_functions as adfn\n",
    "import CCM as cfn\n",
    "# Define paths\n",
    "#----------------------------------------------------------------------\n",
    "Fcode = '/Users/dominicburrows/Dropbox/PhD/Analysis/my_scripts/GitHub/'\n",
    "Fdata = '/Users/dominicburrows/Dropbox/PhD/analysis/Project/'\n",
    "Fdoc = '/Users/dominicburrows/Documents/'\n",
    "F10t = '/Volumes/Dominic 10tb/Data2process/Project/' \n",
    "F10t2 = '/Volumes/Dominic 10tb2/Data2process/Project/'\n",
    "Ftm = '/Volumes/Dominic Time Machine/'\n",
    "Ffig = '/Users/dominicburrows/Dropbox/PhD/figures/'\n",
    "\n",
    "%load_ext autoreload\n",
    "sys.version"
   ]
  },
  {
   "cell_type": "markdown",
   "metadata": {},
   "source": [
    "# Pre-process data"
   ]
  },
  {
   "cell_type": "code",
   "execution_count": 2,
   "metadata": {},
   "outputs": [],
   "source": [
    "co_l = adfn.return_files(Fdata, 'PTZ-WILDTYPE-CCM', '*coord.npy*')\n",
    "tr_l = adfn.return_files(Fdata, 'PTZ-WILDTYPE-CCM', '*trace.npy*')\n",
    "dff_l = adfn.return_files(Fdata, 'PTZ-WILDTYPE-CCM', '*deltaff*')\n",
    "#co_l, tr_l, dff_l"
   ]
  },
  {
   "cell_type": "code",
   "execution_count": null,
   "metadata": {},
   "outputs": [],
   "source": [
    "#Save dict containing all data and hdf5 files for CCM\n",
    "                                                            \n",
    "for i in range(len(co_l)):\n",
    "    co = np.load(co_l[i])\n",
    "    tr = np.load(tr_l[i])\n",
    "    dff = np.load(dff_l[i])\n",
    "    name = adfn.save_name(co_l[i])\n",
    "    f_dict = cfn.CCM_sort(co, tr, dff, name)\n",
    "    \n",
    "    #plt.figure(figsize = (10,5))\n",
    "    #plt.scatter(f_dict['coord'][:,1], f_dict['coord'][:,0], s = 2, color = 'k')\n",
    "    #plt.show()\n",
    "    print('Done ' + name)"
   ]
  },
  {
   "cell_type": "code",
   "execution_count": null,
   "metadata": {},
   "outputs": [],
   "source": []
  }
 ],
 "metadata": {
  "kernelspec": {
   "display_name": "Python 3",
   "language": "python",
   "name": "python3"
  },
  "language_info": {
   "codemirror_mode": {
    "name": "ipython",
    "version": 3
   },
   "file_extension": ".py",
   "mimetype": "text/x-python",
   "name": "python",
   "nbconvert_exporter": "python",
   "pygments_lexer": "ipython3",
   "version": "3.7.6"
  }
 },
 "nbformat": 4,
 "nbformat_minor": 4
}
